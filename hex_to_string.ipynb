{
 "cells": [
  {
   "cell_type": "code",
   "execution_count": null,
   "id": "47208ff9",
   "metadata": {},
   "outputs": [],
   "source": [
    "#test\n",
    "hexstring = \"34 3651\"\n",
    "a_string = bytes.fromhex(hexstring)\n",
    "a_string = a_string.decode(\"ascii\")\n",
    "print(a_string)"
   ]
  },
  {
   "cell_type": "code",
   "execution_count": 2,
   "id": "97e1d45d",
   "metadata": {},
   "outputs": [],
   "source": [
    "import pandas as pd"
   ]
  },
  {
   "cell_type": "code",
   "execution_count": 29,
   "id": "885bea9b",
   "metadata": {},
   "outputs": [],
   "source": [
    "hex_file= pd.read_csv(r\"D:\\suhas\\Projects\\Test_bench_assy\\Engine Renaming\\test data\\ENGINE_NUMBER(220127_230933).csv\") "
   ]
  },
  {
   "cell_type": "code",
   "execution_count": 30,
   "id": "ce892fd6",
   "metadata": {},
   "outputs": [
    {
     "data": {
      "text/html": [
       "<div>\n",
       "<style scoped>\n",
       "    .dataframe tbody tr th:only-of-type {\n",
       "        vertical-align: middle;\n",
       "    }\n",
       "\n",
       "    .dataframe tbody tr th {\n",
       "        vertical-align: top;\n",
       "    }\n",
       "\n",
       "    .dataframe thead th {\n",
       "        text-align: right;\n",
       "    }\n",
       "</style>\n",
       "<table border=\"1\" class=\"dataframe\">\n",
       "  <thead>\n",
       "    <tr style=\"text-align: right;\">\n",
       "      <th></th>\n",
       "      <th>Unnamed: 0</th>\n",
       "      <th>Unnamed: 1</th>\n",
       "      <th>EG1</th>\n",
       "      <th>EG2</th>\n",
       "      <th>EG3</th>\n",
       "      <th>EG4</th>\n",
       "    </tr>\n",
       "  </thead>\n",
       "  <tbody>\n",
       "    <tr>\n",
       "      <th>0</th>\n",
       "      <td>NaN</td>\n",
       "      <td>NaN</td>\n",
       "      <td>NaN</td>\n",
       "      <td>NaN</td>\n",
       "      <td>NaN</td>\n",
       "      <td>NaN</td>\n",
       "    </tr>\n",
       "    <tr>\n",
       "      <th>1</th>\n",
       "      <td>NaN</td>\n",
       "      <td>NaN</td>\n",
       "      <td>NaN</td>\n",
       "      <td>NaN</td>\n",
       "      <td>NaN</td>\n",
       "      <td>NaN</td>\n",
       "    </tr>\n",
       "    <tr>\n",
       "      <th>2</th>\n",
       "      <td>2022/01/27</td>\n",
       "      <td>23:09:33</td>\n",
       "      <td>3541.0</td>\n",
       "      <td>3939.0</td>\n",
       "      <td>3038.0</td>\n",
       "      <td>3038.0</td>\n",
       "    </tr>\n",
       "  </tbody>\n",
       "</table>\n",
       "</div>"
      ],
      "text/plain": [
       "   Unnamed: 0 Unnamed: 1     EG1     EG2     EG3     EG4\n",
       "0         NaN        NaN     NaN     NaN     NaN     NaN\n",
       "1         NaN        NaN     NaN     NaN     NaN     NaN\n",
       "2  2022/01/27   23:09:33  3541.0  3939.0  3038.0  3038.0"
      ]
     },
     "execution_count": 30,
     "metadata": {},
     "output_type": "execute_result"
    }
   ],
   "source": [
    "hex_file.head(5)"
   ]
  },
  {
   "cell_type": "code",
   "execution_count": 31,
   "id": "cad2c615",
   "metadata": {},
   "outputs": [
    {
     "name": "stdout",
     "output_type": "stream",
     "text": [
      "EG1    3541\n",
      "EG2    3939\n",
      "EG3    3038\n",
      "EG4    3038\n",
      "Name: 2, dtype: object\n",
      "3541\n",
      "3939\n",
      "3038\n",
      "3038\n"
     ]
    }
   ],
   "source": [
    "#data retrevial \n",
    "hex_value = hex_file.iloc[2,2:]\n",
    "print(hex_value)\n",
    "\n",
    "#data conversion int to str\n",
    "b= hex_value.astype(int)\n",
    "b = b.astype(str)\n",
    "print(b)\n",
    "\n",
    "#data join\n",
    "bstr = b.to_string(index = False)#' '.join(map(str, b))\n",
    "print(bstr)"
   ]
  },
  {
   "cell_type": "code",
   "execution_count": 32,
   "id": "faf9e865",
   "metadata": {},
   "outputs": [
    {
     "name": "stdout",
     "output_type": "stream",
     "text": [
      "5A990808\n"
     ]
    }
   ],
   "source": [
    "#hex to string\n",
    "#a = \"3541393930383038\"\n",
    "a_string = bytes.fromhex(bstr)\n",
    "a_string = a_string.decode(\"ascii\")\n",
    "print(a_string)"
   ]
  },
  {
   "cell_type": "code",
   "execution_count": null,
   "id": "8c3dbfc6",
   "metadata": {},
   "outputs": [],
   "source": []
  },
  {
   "cell_type": "code",
   "execution_count": null,
   "id": "d70081b4",
   "metadata": {},
   "outputs": [],
   "source": []
  }
 ],
 "metadata": {
  "kernelspec": {
   "display_name": "Python 3",
   "language": "python",
   "name": "python3"
  },
  "language_info": {
   "codemirror_mode": {
    "name": "ipython",
    "version": 3
   },
   "file_extension": ".py",
   "mimetype": "text/x-python",
   "name": "python",
   "nbconvert_exporter": "python",
   "pygments_lexer": "ipython3",
   "version": "3.8.8"
  }
 },
 "nbformat": 4,
 "nbformat_minor": 5
}
