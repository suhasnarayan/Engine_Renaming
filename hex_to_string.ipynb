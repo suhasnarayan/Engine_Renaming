{
 "cells": [
  {
   "cell_type": "code",
   "execution_count": 7,
   "id": "97e1d45d",
   "metadata": {},
   "outputs": [],
   "source": [
    "import pandas as pd"
   ]
  },
  {
   "cell_type": "code",
   "execution_count": 8,
   "id": "885bea9b",
   "metadata": {},
   "outputs": [],
   "source": [
    "hex_file= pd.read_csv(r\"D:\\suhas\\Projects\\Test_bench_assy\\Engine Renaming\\test data\\ENGINE_NUMBER(220127_230933).csv\") "
   ]
  },
  {
   "cell_type": "code",
   "execution_count": 9,
   "id": "ce892fd6",
   "metadata": {},
   "outputs": [
    {
     "data": {
      "text/html": [
       "<div>\n",
       "<style scoped>\n",
       "    .dataframe tbody tr th:only-of-type {\n",
       "        vertical-align: middle;\n",
       "    }\n",
       "\n",
       "    .dataframe tbody tr th {\n",
       "        vertical-align: top;\n",
       "    }\n",
       "\n",
       "    .dataframe thead th {\n",
       "        text-align: right;\n",
       "    }\n",
       "</style>\n",
       "<table border=\"1\" class=\"dataframe\">\n",
       "  <thead>\n",
       "    <tr style=\"text-align: right;\">\n",
       "      <th></th>\n",
       "      <th>Unnamed: 0</th>\n",
       "      <th>Unnamed: 1</th>\n",
       "      <th>EG1</th>\n",
       "      <th>EG2</th>\n",
       "      <th>EG3</th>\n",
       "      <th>EG4</th>\n",
       "    </tr>\n",
       "  </thead>\n",
       "  <tbody>\n",
       "    <tr>\n",
       "      <th>0</th>\n",
       "      <td>NaN</td>\n",
       "      <td>NaN</td>\n",
       "      <td>NaN</td>\n",
       "      <td>NaN</td>\n",
       "      <td>NaN</td>\n",
       "      <td>NaN</td>\n",
       "    </tr>\n",
       "    <tr>\n",
       "      <th>1</th>\n",
       "      <td>NaN</td>\n",
       "      <td>NaN</td>\n",
       "      <td>NaN</td>\n",
       "      <td>NaN</td>\n",
       "      <td>NaN</td>\n",
       "      <td>NaN</td>\n",
       "    </tr>\n",
       "    <tr>\n",
       "      <th>2</th>\n",
       "      <td>2022/01/27</td>\n",
       "      <td>23:09:33</td>\n",
       "      <td>3541.0</td>\n",
       "      <td>3939.0</td>\n",
       "      <td>3038.0</td>\n",
       "      <td>3038.0</td>\n",
       "    </tr>\n",
       "  </tbody>\n",
       "</table>\n",
       "</div>"
      ],
      "text/plain": [
       "   Unnamed: 0 Unnamed: 1     EG1     EG2     EG3     EG4\n",
       "0         NaN        NaN     NaN     NaN     NaN     NaN\n",
       "1         NaN        NaN     NaN     NaN     NaN     NaN\n",
       "2  2022/01/27   23:09:33  3541.0  3939.0  3038.0  3038.0"
      ]
     },
     "execution_count": 9,
     "metadata": {},
     "output_type": "execute_result"
    }
   ],
   "source": [
    "hex_file.head(5)"
   ]
  },
  {
   "cell_type": "code",
   "execution_count": 10,
   "id": "cad2c615",
   "metadata": {},
   "outputs": [
    {
     "name": "stdout",
     "output_type": "stream",
     "text": [
      "['3541', '3939', '3038', '3038']\n"
     ]
    }
   ],
   "source": [
    "#data retrevial \n",
    "hex_value = hex_file.iloc[2,2:]\n",
    "#print(hex_value)\n",
    "\n",
    "#data conversion int to str\n",
    "hex_df = hex_value.astype(int)\n",
    "hex_df = hex_df.astype(str)\n",
    "#print(b)\n",
    "hex_list = hex_df.tolist()\n",
    "print(hex_list)\n"
   ]
  },
  {
   "cell_type": "code",
   "execution_count": 11,
   "id": "8c3dbfc6",
   "metadata": {},
   "outputs": [
    {
     "name": "stdout",
     "output_type": "stream",
     "text": [
      "['4135', '3939', '3830', '3830']\n"
     ]
    }
   ],
   "source": [
    "## Number reversing in list\n",
    "value = []\n",
    "for i in hex_list:\n",
    "    back = str(int(i)%100)\n",
    "    #print(back)\n",
    "    front = str(int(int(i)/100))\n",
    "    #print(front)\n",
    "    final = back+front\n",
    "    #print(final)\n",
    "    value.append(final)\n",
    "\n",
    "print(value)"
   ]
  },
  {
   "cell_type": "code",
   "execution_count": 12,
   "id": "56420ecc",
   "metadata": {},
   "outputs": [
    {
     "name": "stdout",
     "output_type": "stream",
     "text": [
      "4135 3939 3830 3830\n",
      "A5998080\n"
     ]
    }
   ],
   "source": [
    "#data join\n",
    "\n",
    "hex_string = ' '.join(map(str, value)) #value.to_string(index = False)\n",
    "print(hex_string)\n",
    "\n",
    "#hex to string\n",
    "\n",
    "engine_no = bytes.fromhex(hex_string)\n",
    "engine_no = engine_no.decode(\"ascii\")\n",
    "print(engine_no)"
   ]
  },
  {
   "cell_type": "code",
   "execution_count": 18,
   "id": "405634a8",
   "metadata": {},
   "outputs": [],
   "source": [
    "def eng_data():\n",
    "    \n",
    "    hex_file= pd.read_csv(r\"D:\\suhas\\Projects\\Test_bench_assy\\Engine Renaming\\test data\\ENGINE_NUMBER(220127_230933).csv\") \n",
    "    hex_file.head(5)\n",
    "    \n",
    "    #data retrevial \n",
    "    hex_value = hex_file.iloc[2,2:]\n",
    "    #print(hex_value)\n",
    "\n",
    "    #data conversion int to str\n",
    "    hex_df = hex_value.astype(int)\n",
    "    hex_df = hex_df.astype(str)\n",
    " \n",
    "    hex_list = hex_df.tolist()\n",
    "    print(hex_list)\n",
    "\n",
    "    ## Number reversing in list\n",
    "    value = []\n",
    "    for i in hex_list:\n",
    "        back = str(int(i)%100)\n",
    "        #print(back)\n",
    "        front = str(int(int(i)/100))\n",
    "        #print(front)\n",
    "        final = back+front\n",
    "        #print(final)\n",
    "        value.append(final)\n",
    "\n",
    "    print(value)\n",
    "    \n",
    "    #data join\n",
    "\n",
    "    hex_string = ' '.join(map(str, value)) #value.to_string(index = False)\n",
    "    print(hex_string)\n",
    "\n",
    "    #hex to string\n",
    "\n",
    "    engine_no = bytes.fromhex(hex_string)\n",
    "    engine_no = engine_no.decode(\"ascii\")\n",
    "    print(engine_no)\n",
    "    \n",
    "    return (engine_no)\n",
    "\n",
    "    "
   ]
  },
  {
   "cell_type": "code",
   "execution_count": 23,
   "id": "5dd69ab3",
   "metadata": {},
   "outputs": [
    {
     "name": "stdout",
     "output_type": "stream",
     "text": [
      "['3541', '3939', '3038', '3038']\n",
      "['4135', '3939', '3830', '3830']\n",
      "4135 3939 3830 3830\n",
      "A5998080\n"
     ]
    },
    {
     "data": {
      "text/plain": [
       "'A5998080'"
      ]
     },
     "execution_count": 23,
     "metadata": {},
     "output_type": "execute_result"
    }
   ],
   "source": [
    "eng_data()"
   ]
  },
  {
   "cell_type": "code",
   "execution_count": null,
   "id": "98407883",
   "metadata": {},
   "outputs": [],
   "source": []
  }
 ],
 "metadata": {
  "kernelspec": {
   "display_name": "Python 3",
   "language": "python",
   "name": "python3"
  },
  "language_info": {
   "codemirror_mode": {
    "name": "ipython",
    "version": 3
   },
   "file_extension": ".py",
   "mimetype": "text/x-python",
   "name": "python",
   "nbconvert_exporter": "python",
   "pygments_lexer": "ipython3",
   "version": "3.8.8"
  }
 },
 "nbformat": 4,
 "nbformat_minor": 5
}
