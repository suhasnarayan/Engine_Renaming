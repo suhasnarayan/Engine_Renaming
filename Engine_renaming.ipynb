{
 "cells": [
  {
   "cell_type": "code",
   "execution_count": null,
   "id": "8091151c",
   "metadata": {},
   "outputs": [],
   "source": [
    "import pandas as pd\n",
    "import glob\n",
    "import os\n",
    "import os.path"
   ]
  },
  {
   "cell_type": "code",
   "execution_count": null,
   "id": "9fe42d49",
   "metadata": {},
   "outputs": [],
   "source": [
    "path = r\"C:\\Users\\shreyas.bk\\Desktop\\image_diff\\img\"\n",
    "img_folder = os.listdir(path)"
   ]
  },
  {
   "cell_type": "code",
   "execution_count": null,
   "id": "4f7442a7",
   "metadata": {},
   "outputs": [],
   "source": [
    "img_name = []\n",
    "for img in img_folder:\n",
    "    name, ext = img.split(\".\")\n",
    "    img_name.append(name)\n",
    "\n",
    "#print(img_name)"
   ]
  },
  {
   "cell_type": "code",
   "execution_count": null,
   "id": "4370e77b",
   "metadata": {},
   "outputs": [],
   "source": [
    "time_chunk=[]\n",
    "for x in img_name:\n",
    "    y = x[:11]\n",
    "    time_chunk.append(y)\n",
    "\n",
    "#print(time_chunk)"
   ]
  },
  {
   "cell_type": "code",
   "execution_count": null,
   "id": "9eae5c13",
   "metadata": {},
   "outputs": [],
   "source": [
    "df = pd.read_excel(\"g-ng.xlsx\")\n",
    "engine_no = df['engine_no'].iloc[-1]\n",
    "date_time = df['date_time'].iloc[-1]\n",
    "\n",
    "#print(engine_no , date_time)\n",
    "print(date_time[:11])"
   ]
  },
  {
   "cell_type": "code",
   "execution_count": null,
   "id": "4c2779a1",
   "metadata": {},
   "outputs": [],
   "source": [
    "#old_folder = []\n",
    "no = 0\n",
    "for i in time_chunk:\n",
    "   \n",
    "    old_path = path +\"\\\\\" + img_name[no] + '.bmp'\n",
    "    print(img_name[no])\n",
    "    #old_folder.append(old_path)\n",
    "    new_path = path + \"\\\\\" + engine_no + '_' +str(no) + '.bmp'\n",
    "    print(i)\n",
    "    no += 1\n",
    "    if i == date_time[:11]:\n",
    "        rename = os.rename(old_path, new_path)"
   ]
  }
 ],
 "metadata": {
  "kernelspec": {
   "display_name": "Python 3",
   "language": "python",
   "name": "python3"
  },
  "language_info": {
   "codemirror_mode": {
    "name": "ipython",
    "version": 3
   },
   "file_extension": ".py",
   "mimetype": "text/x-python",
   "name": "python",
   "nbconvert_exporter": "python",
   "pygments_lexer": "ipython3",
   "version": "3.8.8"
  }
 },
 "nbformat": 4,
 "nbformat_minor": 5
}
