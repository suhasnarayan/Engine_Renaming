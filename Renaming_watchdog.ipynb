{
 "cells": [
  {
   "cell_type": "code",
   "execution_count": 1,
   "id": "63bccbf2",
   "metadata": {},
   "outputs": [],
   "source": [
    "import os\n",
    "import os.path\n",
    "\n",
    "import time\n",
    "\n",
    "import pandas as pd\n",
    "import glob\n",
    "\n",
    "import watchdog.events\n",
    "import watchdog.observers\n",
    "from watchdog.observers import Observer\n",
    "from watchdog.events import FileSystemEventHandler"
   ]
  },
  {
   "cell_type": "code",
   "execution_count": 2,
   "id": "f11a5064",
   "metadata": {},
   "outputs": [
    {
     "name": "stdout",
     "output_type": "stream",
     "text": [
      "20220204\n"
     ]
    }
   ],
   "source": [
    "date = time.strftime(\"%Y%m%d\")\n",
    "print(date)\n",
    "\n",
    "path = r\"D:\\suhas\\Projects\\Test_bench_assy\\Engine Renaming\" + \"\\\\\" +date # + r'\\CAM1'"
   ]
  },
  {
   "cell_type": "code",
   "execution_count": 3,
   "id": "79f28e12",
   "metadata": {},
   "outputs": [],
   "source": [
    "#os.chdir()\n",
    "class OnMyWatch:\n",
    "    # Set the directory on watch\n",
    "    watchDirectory = path\n",
    "  \n",
    "    def __init__(self):\n",
    "        self.observer = Observer()\n",
    "  \n",
    "    def run(self):\n",
    "        event_handler = Handler()\n",
    "        self.observer.schedule(event_handler, self.watchDirectory, recursive = True)\n",
    "        self.observer.start()\n",
    "        try:\n",
    "            while True:\n",
    "                time.sleep(5) #(30)\n",
    "        except:\n",
    "            self.observer.stop()\n",
    "            print(\"Observer Stopped\")\n",
    "  \n",
    "        self.observer.join()"
   ]
  },
  {
   "cell_type": "code",
   "execution_count": 4,
   "id": "1d6eaf2f",
   "metadata": {},
   "outputs": [
    {
     "name": "stdout",
     "output_type": "stream",
     "text": [
      "D:\\suhas\\Projects\\Test_bench_assy\\Engine Renaming\\20220204\\IMG-20220203-WA0002.jpg\n",
      "IMG-20220203-WA0002.jpg\n",
      "IMG-20220203-WA0002\n",
      "D:\\suhas\\Projects\\Test_bench_assy\\Engine Renaming\\csv\\ENGINE_NUMBER(220127_230933).csv\n",
      "['3541', '3939', '3038', '3038']\n",
      "['4135', '3939', '3830', '3830']\n",
      "4135 3939 3830 3830\n",
      "A5998080\n",
      "D:\\suhas\\Projects\\Test_bench_assy\\Engine Renaming\\20220204\\IMG-20220203-WA0002.jpg\n",
      "D:\\suhas\\Projects\\Test_bench_assy\\Engine Renaming\\20220204\\IMG-20220203-WA0003.jpg\n",
      "IMG-20220203-WA0003.jpg\n",
      "IMG-20220203-WA0003\n",
      "D:\\suhas\\Projects\\Test_bench_assy\\Engine Renaming\\csv\\ENGINE_NUMBER(220127_231111).csv\n",
      "['3541', '3939', '3038', '3039']\n",
      "['4135', '3939', '3830', '3930']\n",
      "4135 3939 3830 3930\n",
      "A5998090\n",
      "D:\\suhas\\Projects\\Test_bench_assy\\Engine Renaming\\20220204\\IMG-20220203-WA0003.jpg\n",
      "Observer Stopped\n"
     ]
    }
   ],
   "source": [
    "class Handler(FileSystemEventHandler):\n",
    "  \n",
    "    \n",
    "    def on_any_event(self, event):\n",
    "        if event.is_directory:\n",
    "            return None\n",
    "  \n",
    "        elif event.event_type == 'created':\n",
    "            # Event is created, you can process it now \n",
    "            \n",
    "            \n",
    "            folder_path = path\n",
    "            file_type = '\\*jpg'\n",
    "            files = glob.glob(folder_path + file_type)\n",
    "            max_file = max(files, key=os.path.getctime)\n",
    "\n",
    "            print (max_file)\n",
    "            \n",
    "            img_path,img_name = os.path.split(max_file)\n",
    "            print(img_name)\n",
    "            img_name,ext = img_name.split(\".\")\n",
    "            print(img_name)\n",
    "\n",
    "            csv_path = r\"D:\\suhas\\Projects\\Test_bench_assy\\Engine Renaming\\csv\" \n",
    "            csv_type = '\\*csv'\n",
    "            csv = glob.glob(csv_path + csv_type)\n",
    "            csv_file = max(csv, key=os.path.getctime)\n",
    "\n",
    "            print (csv_file)\n",
    "            hex_file= pd.read_csv(csv_file) \n",
    "            hex_file.head(5)\n",
    "\n",
    "            #data retrevial \n",
    "            hex_value = hex_file.iloc[2,2:]\n",
    "            #print(hex_value)\n",
    "\n",
    "            #data conversion int to str\n",
    "            hex_df = hex_value.astype(int)\n",
    "            hex_df = hex_df.astype(str)\n",
    "\n",
    "            hex_list = hex_df.tolist()\n",
    "            print(hex_list)\n",
    "\n",
    "            ## Number reversing in list\n",
    "            value = []\n",
    "            for i in hex_list:\n",
    "                back = str(int(i)%100)\n",
    "                #print(back)\n",
    "                front = str(int(int(i)/100))\n",
    "                #print(front)\n",
    "                final = back+front\n",
    "                #print(final)\n",
    "                value.append(final)\n",
    "\n",
    "            print(value)\n",
    "\n",
    "            #data join\n",
    "\n",
    "            hex_string = ' '.join(map(str, value)) #value.to_string(index = False)\n",
    "            print(hex_string)\n",
    "\n",
    "            #hex to string\n",
    "\n",
    "            engine_no = bytes.fromhex(hex_string)\n",
    "            engine_no = engine_no.decode(\"ascii\")\n",
    "            print(engine_no)\n",
    "\n",
    "            old_path = path +\"\\\\\" + img_name + '.jpg'\n",
    "            print(old_path)\n",
    "            #old_folder.append(old_path)\n",
    "            new_path = path + \"\\\\\" + engine_no + '.jpg'\n",
    "            rename = os.rename(old_path, new_path)\n",
    "           \n",
    "#         elif event.event_type == 'modified':\n",
    "#              return None\n",
    "                      \n",
    "if __name__ == '__main__':\n",
    "    watch = OnMyWatch()\n",
    "    watch.run()"
   ]
  },
  {
   "cell_type": "code",
   "execution_count": null,
   "id": "bc8f0566",
   "metadata": {},
   "outputs": [],
   "source": []
  }
 ],
 "metadata": {
  "kernelspec": {
   "display_name": "Python 3",
   "language": "python",
   "name": "python3"
  },
  "language_info": {
   "codemirror_mode": {
    "name": "ipython",
    "version": 3
   },
   "file_extension": ".py",
   "mimetype": "text/x-python",
   "name": "python",
   "nbconvert_exporter": "python",
   "pygments_lexer": "ipython3",
   "version": "3.8.8"
  }
 },
 "nbformat": 4,
 "nbformat_minor": 5
}
